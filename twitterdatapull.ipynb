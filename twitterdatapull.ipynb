{
 "cells": [
  {
   "cell_type": "code",
   "execution_count": 1,
   "metadata": {},
   "outputs": [
    {
     "name": "stdout",
     "output_type": "stream",
     "text": [
      "Requirement already satisfied: tweepy in c:\\users\\suses\\anaconda3\\lib\\site-packages (3.8.0)\n",
      "Requirement already satisfied: requests-oauthlib>=0.7.0 in c:\\users\\suses\\anaconda3\\lib\\site-packages (from tweepy) (1.3.0)\n",
      "Requirement already satisfied: requests>=2.11.1 in c:\\users\\suses\\anaconda3\\lib\\site-packages (from tweepy) (2.22.0)\n",
      "Requirement already satisfied: PySocks>=1.5.7 in c:\\users\\suses\\anaconda3\\lib\\site-packages (from tweepy) (1.7.1)\n",
      "Requirement already satisfied: six>=1.10.0 in c:\\users\\suses\\anaconda3\\lib\\site-packages (from tweepy) (1.14.0)\n",
      "Requirement already satisfied: oauthlib>=3.0.0 in c:\\users\\suses\\anaconda3\\lib\\site-packages (from requests-oauthlib>=0.7.0->tweepy) (3.1.0)\n",
      "Requirement already satisfied: certifi>=2017.4.17 in c:\\users\\suses\\anaconda3\\lib\\site-packages (from requests>=2.11.1->tweepy) (2019.11.28)\n",
      "Requirement already satisfied: idna<2.9,>=2.5 in c:\\users\\suses\\anaconda3\\lib\\site-packages (from requests>=2.11.1->tweepy) (2.8)\n",
      "Requirement already satisfied: urllib3!=1.25.0,!=1.25.1,<1.26,>=1.21.1 in c:\\users\\suses\\anaconda3\\lib\\site-packages (from requests>=2.11.1->tweepy) (1.25.8)\n",
      "Requirement already satisfied: chardet<3.1.0,>=3.0.2 in c:\\users\\suses\\anaconda3\\lib\\site-packages (from requests>=2.11.1->tweepy) (3.0.4)\n"
     ]
    }
   ],
   "source": [
    "!pip install tweepy"
   ]
  },
  {
   "cell_type": "markdown",
   "metadata": {},
   "source": [
    "# Connection"
   ]
  },
  {
   "cell_type": "code",
   "execution_count": 2,
   "metadata": {},
   "outputs": [],
   "source": [
    "#Importing libraries and connecting to twitter developper account\n",
    "import tweepy,codecs\n",
    "import pandas as pd\n",
    "\n",
    "\n",
    "consumer_key=\"Type your key\"\n",
    "consumer_secret=\"Type your key\"\n",
    "access_token=\"Type your key\"\n",
    "access_token_secret=\"Type your key\"\n",
    "\n",
    "auth=tweepy.OAuthHandler(consumer_key,consumer_secret)\n",
    "auth.set_access_token(access_token,access_token_secret)\n",
    "api=tweepy.API(auth)"
   ]
  },
  {
   "cell_type": "markdown",
   "metadata": {},
   "source": [
    "# Data Taking"
   ]
  },
  {
   "cell_type": "code",
   "execution_count": 3,
   "metadata": {},
   "outputs": [],
   "source": [
    "#Taking datas from Hashtags"
   ]
  },
  {
   "cell_type": "code",
   "execution_count": 4,
   "metadata": {},
   "outputs": [],
   "source": [
    "results=api.search(q=\"#covid-19\",lang=\"tr\",\n",
    "                  count=300\n",
    "                )\n",
    "#To Change language lang=\"eng\"\n",
    "\n"
   ]
  },
  {
   "cell_type": "code",
   "execution_count": 5,
   "metadata": {},
   "outputs": [],
   "source": [
    "#hashtags to dataframes"
   ]
  },
  {
   "cell_type": "code",
   "execution_count": 6,
   "metadata": {},
   "outputs": [],
   "source": [
    "\n",
    "def tweets_df(results):\n",
    "    import pandas as pd\n",
    "    id_list=[tweet.id for tweet in results]\n",
    "    data_set=pd.DataFrame(id_list,columns=[\"id\"])\n",
    "    \n",
    "    data_set[\"text\"]=[tw.text for tw in results]\n",
    "    data_set[\"created_at\"]=[tw.created_at for tw in results]\n",
    "    data_set[\"retweet_count\"]=[tw.retweet_count for tw in results]\n",
    "    data_set[\"user_screen_name\"]=[tw.author.screen_name for tw in results]\n",
    "    data_set[\"user_followers_count\"]=[tw.author.followers_count for tw in results]\n",
    "    data_set[\"user_location\"]=[tw.author.location for tw in results]\n",
    "    data_set[\"Hashtags\"]=[tw.entities.get('hashtags') for tw in results]\n",
    "    \n",
    "    return data_set\n",
    "    \n",
    "    "
   ]
  },
  {
   "cell_type": "code",
   "execution_count": 7,
   "metadata": {},
   "outputs": [],
   "source": [
    "data =tweets_df(results)"
   ]
  },
  {
   "cell_type": "code",
   "execution_count": 8,
   "metadata": {},
   "outputs": [
    {
     "data": {
      "text/plain": [
       "78"
      ]
     },
     "execution_count": 8,
     "metadata": {},
     "output_type": "execute_result"
    }
   ],
   "source": [
    "data[\"user_screen_name\"].unique().size"
   ]
  },
  {
   "cell_type": "code",
   "execution_count": 9,
   "metadata": {},
   "outputs": [
    {
     "data": {
      "text/plain": [
       "0      True\n",
       "1      True\n",
       "2      True\n",
       "3      True\n",
       "4     False\n",
       "      ...  \n",
       "82    False\n",
       "83     True\n",
       "84     True\n",
       "85    False\n",
       "86     True\n",
       "Name: text, Length: 87, dtype: bool"
      ]
     },
     "execution_count": 9,
     "metadata": {},
     "output_type": "execute_result"
    }
   ],
   "source": [
    "\n",
    "data[\"text\"].str.startswith(\"RT\")#finding not RT tweets"
   ]
  },
  {
   "cell_type": "code",
   "execution_count": 10,
   "metadata": {},
   "outputs": [],
   "source": [
    "data=data[~data[\"text\"].str.startswith(\"RT\")]"
   ]
  },
  {
   "cell_type": "code",
   "execution_count": 11,
   "metadata": {},
   "outputs": [],
   "source": [
    "\n",
    "\n",
    "old_data=pd.read_csv(\"tweets.csv\")\n"
   ]
  },
  {
   "cell_type": "code",
   "execution_count": 12,
   "metadata": {},
   "outputs": [],
   "source": [
    "\n",
    "new_data=pd.concat([old_data,data],ignore_index=True)\n",
    "new_data=new_data.drop([\"Unnamed: 0\"],axis=1)"
   ]
  },
  {
   "cell_type": "code",
   "execution_count": 13,
   "metadata": {},
   "outputs": [],
   "source": [
    "\n",
    "\n",
    "\n",
    "new_data=new_data.drop_duplicates(subset =\"text\",keep=\"last\")\n",
    "new_data.to_csv(\"tweets.csv\")\n"
   ]
  },
  {
   "cell_type": "code",
   "execution_count": null,
   "metadata": {},
   "outputs": [],
   "source": []
  },
  {
   "cell_type": "code",
   "execution_count": 14,
   "metadata": {},
   "outputs": [
    {
     "data": {
      "text/html": [
       "<div>\n",
       "<style scoped>\n",
       "    .dataframe tbody tr th:only-of-type {\n",
       "        vertical-align: middle;\n",
       "    }\n",
       "\n",
       "    .dataframe tbody tr th {\n",
       "        vertical-align: top;\n",
       "    }\n",
       "\n",
       "    .dataframe thead th {\n",
       "        text-align: right;\n",
       "    }\n",
       "</style>\n",
       "<table border=\"1\" class=\"dataframe\">\n",
       "  <thead>\n",
       "    <tr style=\"text-align: right;\">\n",
       "      <th></th>\n",
       "      <th>id</th>\n",
       "      <th>text</th>\n",
       "      <th>created_at</th>\n",
       "      <th>retweet_count</th>\n",
       "      <th>user_screen_name</th>\n",
       "      <th>user_followers_count</th>\n",
       "      <th>user_location</th>\n",
       "      <th>Hashtags</th>\n",
       "    </tr>\n",
       "  </thead>\n",
       "  <tbody>\n",
       "    <tr>\n",
       "      <th>0</th>\n",
       "      <td>1248965085512511489</td>\n",
       "      <td>bence virüste şaşırıyor bu olamlara #Covid_19 ...</td>\n",
       "      <td>2020-04-11 13:24:15</td>\n",
       "      <td>0</td>\n",
       "      <td>dorukhnv</td>\n",
       "      <td>424</td>\n",
       "      <td>NaN</td>\n",
       "      <td>[{'text': 'Covid_19', 'indices': [36, 45]}, {'...</td>\n",
       "    </tr>\n",
       "    <tr>\n",
       "      <th>1</th>\n",
       "      <td>1248965082098348032</td>\n",
       "      <td>Nöroloji Uzmanımız #ProfDrSultanTarlacı, #Covi...</td>\n",
       "      <td>2020-04-11 13:24:14</td>\n",
       "      <td>0</td>\n",
       "      <td>npistanbul</td>\n",
       "      <td>3420</td>\n",
       "      <td>Ümraniye, İstanbul</td>\n",
       "      <td>[{'text': 'ProfDrSultanTarlacı', 'indices': [1...</td>\n",
       "    </tr>\n",
       "    <tr>\n",
       "      <th>2</th>\n",
       "      <td>1248965048996892673</td>\n",
       "      <td>Tav vurmaya karşı elimizde güçlü bir koz var. ...</td>\n",
       "      <td>2020-04-11 13:24:06</td>\n",
       "      <td>0</td>\n",
       "      <td>saydaminsanlik0</td>\n",
       "      <td>162</td>\n",
       "      <td>NaN</td>\n",
       "      <td>[{'text': 'darbe', 'indices': [60, 66]}, {'tex...</td>\n",
       "    </tr>\n",
       "    <tr>\n",
       "      <th>3</th>\n",
       "      <td>1248965047419899905</td>\n",
       "      <td>Bazı şeyler için milletin kafası değişmeli san...</td>\n",
       "      <td>2020-04-11 13:24:06</td>\n",
       "      <td>0</td>\n",
       "      <td>alitplll</td>\n",
       "      <td>53</td>\n",
       "      <td>İstanbul, Türkiye</td>\n",
       "      <td>[]</td>\n",
       "    </tr>\n",
       "    <tr>\n",
       "      <th>4</th>\n",
       "      <td>1248964956915224576</td>\n",
       "      <td>2 Gün açlıktan kimse ölmedi.fakat\\n Covid’19 d...</td>\n",
       "      <td>2020-04-11 13:23:45</td>\n",
       "      <td>1</td>\n",
       "      <td>kutupkutup1</td>\n",
       "      <td>774</td>\n",
       "      <td>Türkiye</td>\n",
       "      <td>[{'text': 'evdekal', 'indices': [94, 102]}]</td>\n",
       "    </tr>\n",
       "    <tr>\n",
       "      <th>...</th>\n",
       "      <td>...</td>\n",
       "      <td>...</td>\n",
       "      <td>...</td>\n",
       "      <td>...</td>\n",
       "      <td>...</td>\n",
       "      <td>...</td>\n",
       "      <td>...</td>\n",
       "      <td>...</td>\n",
       "    </tr>\n",
       "    <tr>\n",
       "      <th>544</th>\n",
       "      <td>1262895330703675393</td>\n",
       "      <td>türkiye vs hasta mahpuslar: \\ncovid-19 edition...</td>\n",
       "      <td>2020-05-19 23:58:04</td>\n",
       "      <td>0</td>\n",
       "      <td>zeynpandthecats</td>\n",
       "      <td>195</td>\n",
       "      <td>iühf</td>\n",
       "      <td>[]</td>\n",
       "    </tr>\n",
       "    <tr>\n",
       "      <th>545</th>\n",
       "      <td>1262895257592696839</td>\n",
       "      <td>Kemal Sunal’ın bütün filmlerini bu pandemide T...</td>\n",
       "      <td>2020-05-19 23:57:47</td>\n",
       "      <td>0</td>\n",
       "      <td>bendeli1988</td>\n",
       "      <td>671</td>\n",
       "      <td>England, United Kingdom</td>\n",
       "      <td>[]</td>\n",
       "    </tr>\n",
       "    <tr>\n",
       "      <th>546</th>\n",
       "      <td>1262895182904770561</td>\n",
       "      <td>Adamlar teşkonun kralını yapmış bakan felan 👏👏...</td>\n",
       "      <td>2020-05-19 23:57:29</td>\n",
       "      <td>0</td>\n",
       "      <td>JerryFl60117013</td>\n",
       "      <td>2</td>\n",
       "      <td></td>\n",
       "      <td>[]</td>\n",
       "    </tr>\n",
       "    <tr>\n",
       "      <th>547</th>\n",
       "      <td>1262895122209005569</td>\n",
       "      <td>An itibariyle ABD'de #coronavirus ölümü +1542 ...</td>\n",
       "      <td>2020-05-19 23:57:15</td>\n",
       "      <td>0</td>\n",
       "      <td>fener18</td>\n",
       "      <td>1147</td>\n",
       "      <td>Türkiye</td>\n",
       "      <td>[{'text': 'coronavirus', 'indices': [21, 33]}]</td>\n",
       "    </tr>\n",
       "    <tr>\n",
       "      <th>548</th>\n",
       "      <td>1262895017502400513</td>\n",
       "      <td>Futbolcuların Covid-19 testleri normal insanda...</td>\n",
       "      <td>2020-05-19 23:56:50</td>\n",
       "      <td>0</td>\n",
       "      <td>kurtkanmuratt</td>\n",
       "      <td>46</td>\n",
       "      <td>Bayrampaşa, İstanbul</td>\n",
       "      <td>[]</td>\n",
       "    </tr>\n",
       "  </tbody>\n",
       "</table>\n",
       "<p>549 rows × 8 columns</p>\n",
       "</div>"
      ],
      "text/plain": [
       "                      id                                               text  \\\n",
       "0    1248965085512511489  bence virüste şaşırıyor bu olamlara #Covid_19 ...   \n",
       "1    1248965082098348032  Nöroloji Uzmanımız #ProfDrSultanTarlacı, #Covi...   \n",
       "2    1248965048996892673  Tav vurmaya karşı elimizde güçlü bir koz var. ...   \n",
       "3    1248965047419899905  Bazı şeyler için milletin kafası değişmeli san...   \n",
       "4    1248964956915224576  2 Gün açlıktan kimse ölmedi.fakat\\n Covid’19 d...   \n",
       "..                   ...                                                ...   \n",
       "544  1262895330703675393  türkiye vs hasta mahpuslar: \\ncovid-19 edition...   \n",
       "545  1262895257592696839  Kemal Sunal’ın bütün filmlerini bu pandemide T...   \n",
       "546  1262895182904770561  Adamlar teşkonun kralını yapmış bakan felan 👏👏...   \n",
       "547  1262895122209005569  An itibariyle ABD'de #coronavirus ölümü +1542 ...   \n",
       "548  1262895017502400513  Futbolcuların Covid-19 testleri normal insanda...   \n",
       "\n",
       "              created_at  retweet_count user_screen_name  \\\n",
       "0    2020-04-11 13:24:15              0         dorukhnv   \n",
       "1    2020-04-11 13:24:14              0       npistanbul   \n",
       "2    2020-04-11 13:24:06              0  saydaminsanlik0   \n",
       "3    2020-04-11 13:24:06              0         alitplll   \n",
       "4    2020-04-11 13:23:45              1      kutupkutup1   \n",
       "..                   ...            ...              ...   \n",
       "544  2020-05-19 23:58:04              0  zeynpandthecats   \n",
       "545  2020-05-19 23:57:47              0      bendeli1988   \n",
       "546  2020-05-19 23:57:29              0  JerryFl60117013   \n",
       "547  2020-05-19 23:57:15              0          fener18   \n",
       "548  2020-05-19 23:56:50              0    kurtkanmuratt   \n",
       "\n",
       "     user_followers_count            user_location  \\\n",
       "0                     424                      NaN   \n",
       "1                    3420       Ümraniye, İstanbul   \n",
       "2                     162                      NaN   \n",
       "3                      53        İstanbul, Türkiye   \n",
       "4                     774                  Türkiye   \n",
       "..                    ...                      ...   \n",
       "544                   195                     iühf   \n",
       "545                   671  England, United Kingdom   \n",
       "546                     2                            \n",
       "547                  1147                  Türkiye   \n",
       "548                    46    Bayrampaşa, İstanbul    \n",
       "\n",
       "                                              Hashtags  \n",
       "0    [{'text': 'Covid_19', 'indices': [36, 45]}, {'...  \n",
       "1    [{'text': 'ProfDrSultanTarlacı', 'indices': [1...  \n",
       "2    [{'text': 'darbe', 'indices': [60, 66]}, {'tex...  \n",
       "3                                                   []  \n",
       "4          [{'text': 'evdekal', 'indices': [94, 102]}]  \n",
       "..                                                 ...  \n",
       "544                                                 []  \n",
       "545                                                 []  \n",
       "546                                                 []  \n",
       "547     [{'text': 'coronavirus', 'indices': [21, 33]}]  \n",
       "548                                                 []  \n",
       "\n",
       "[549 rows x 8 columns]"
      ]
     },
     "execution_count": 14,
     "metadata": {},
     "output_type": "execute_result"
    }
   ],
   "source": [
    "new_data"
   ]
  },
  {
   "cell_type": "markdown",
   "metadata": {},
   "source": [
    "# Cleaning Text Data"
   ]
  },
  {
   "cell_type": "code",
   "execution_count": 15,
   "metadata": {},
   "outputs": [],
   "source": [
    "\n",
    "text_data=pd.DataFrame(new_data[\"text\"])"
   ]
  },
  {
   "cell_type": "code",
   "execution_count": 16,
   "metadata": {},
   "outputs": [],
   "source": [
    "text_data1=text_data.copy()"
   ]
  },
  {
   "cell_type": "code",
   "execution_count": 17,
   "metadata": {},
   "outputs": [],
   "source": [
    "\n",
    "#To lower, removing hashtags"
   ]
  },
  {
   "cell_type": "code",
   "execution_count": 18,
   "metadata": {},
   "outputs": [],
   "source": [
    "text_data1[\"text\"] = text_data1[\"text\"].apply(lambda tw:\n",
    "                                              \" \".join(tw.lower() for tw in tw.split()))\n",
    "text_data1[\"text\"] = text_data1[\"text\"].apply(lambda tw:\n",
    "                                              \" \".join(tw for tw in tw.split() if not(tw.startswith(\"#\"))))\n",
    "text_data1[\"text\"] = text_data1[\"text\"].apply(lambda tw:\n",
    "                                              \" \".join(tw for tw in tw.split() if not(tw.startswith(\"http\"))))\n",
    "\n"
   ]
  },
  {
   "cell_type": "code",
   "execution_count": 19,
   "metadata": {},
   "outputs": [
    {
     "data": {
      "text/html": [
       "<div>\n",
       "<style scoped>\n",
       "    .dataframe tbody tr th:only-of-type {\n",
       "        vertical-align: middle;\n",
       "    }\n",
       "\n",
       "    .dataframe tbody tr th {\n",
       "        vertical-align: top;\n",
       "    }\n",
       "\n",
       "    .dataframe thead th {\n",
       "        text-align: right;\n",
       "    }\n",
       "</style>\n",
       "<table border=\"1\" class=\"dataframe\">\n",
       "  <thead>\n",
       "    <tr style=\"text-align: right;\">\n",
       "      <th></th>\n",
       "      <th>text</th>\n",
       "    </tr>\n",
       "  </thead>\n",
       "  <tbody>\n",
       "    <tr>\n",
       "      <th>count</th>\n",
       "      <td>549</td>\n",
       "    </tr>\n",
       "    <tr>\n",
       "      <th>unique</th>\n",
       "      <td>543</td>\n",
       "    </tr>\n",
       "    <tr>\n",
       "      <th>top</th>\n",
       "      <td>medyaya yansitilmayan gerçek ufo görüntüleri</td>\n",
       "    </tr>\n",
       "    <tr>\n",
       "      <th>freq</th>\n",
       "      <td>2</td>\n",
       "    </tr>\n",
       "  </tbody>\n",
       "</table>\n",
       "</div>"
      ],
      "text/plain": [
       "                                                text\n",
       "count                                            549\n",
       "unique                                           543\n",
       "top     medyaya yansitilmayan gerçek ufo görüntüleri\n",
       "freq                                               2"
      ]
     },
     "execution_count": 19,
     "metadata": {},
     "output_type": "execute_result"
    }
   ],
   "source": [
    "text_data1[\"text\"] = text_data1[\"text\"].str.replace(\"[^\\w\\s]\",\"\")\n",
    "text_data1.describe()"
   ]
  },
  {
   "cell_type": "code",
   "execution_count": 20,
   "metadata": {},
   "outputs": [],
   "source": [
    "clean_Data=new_data\n",
    "clean_Data[\"text\"]=text_data1[\"text\"]\n",
    "clean_Data.to_csv(\"clean_data_full.csv\")"
   ]
  },
  {
   "cell_type": "code",
   "execution_count": 21,
   "metadata": {},
   "outputs": [],
   "source": [
    "text_data1.to_csv(\"clean_data.csv\")"
   ]
  },
  {
   "cell_type": "code",
   "execution_count": 22,
   "metadata": {},
   "outputs": [],
   "source": [
    "###IMPORTANT ============>  You can accumulate data by running all the codes by here up to and over and over again."
   ]
  }
 ],
 "metadata": {
  "kernelspec": {
   "display_name": "Python 3",
   "language": "python",
   "name": "python3"
  },
  "language_info": {
   "codemirror_mode": {
    "name": "ipython",
    "version": 3
   },
   "file_extension": ".py",
   "mimetype": "text/x-python",
   "name": "python",
   "nbconvert_exporter": "python",
   "pygments_lexer": "ipython3",
   "version": "3.7.6"
  }
 },
 "nbformat": 4,
 "nbformat_minor": 4
}
